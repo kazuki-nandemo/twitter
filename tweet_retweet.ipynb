{
 "cells": [
  {
   "cell_type": "code",
   "execution_count": 1,
   "id": "a545c164-5ef1-412e-9990-518cf7d1f97d",
   "metadata": {},
   "outputs": [],
   "source": [
    "# !pip install tweepy"
   ]
  },
  {
   "cell_type": "code",
   "execution_count": 1,
   "id": "0802a2c4-561c-445b-899a-cb6a9810944f",
   "metadata": {},
   "outputs": [],
   "source": [
    "import json\n",
    "import tweepy\n",
    "from datetime import datetime,timezone\n",
    "import pytz\n",
    "import pandas as pd\n",
    "import datetime"
   ]
  },
  {
   "cell_type": "code",
   "execution_count": null,
   "id": "944011ab-a47b-4f5f-80ee-65cc168eb6b0",
   "metadata": {},
   "outputs": [],
   "source": [
    "f = open('secret.json','r')\n",
    "key = json.load(f)\n",
    "Consumer_key = key['Consumer_key']\n",
    "Consumer_secret = key['Consumer_secret']\n",
    "Access_token = key['Access_token']\n",
    "Access_secret = key['Access_secret']\n",
    "bearer_token = key['bearer_token']"
   ]
  },
  {
   "cell_type": "code",
   "execution_count": null,
   "id": "e35f8b0a-7516-438f-b530-069df8d00426",
   "metadata": {},
   "outputs": [],
   "source": [
    "def get_userid(username):\n",
    "    username = username\n",
    "    user_result = client.get_user(username=username)\n",
    "    id = user_result.data.id\n",
    "    return id\n",
    "def change_time_JST(u_time):\n",
    "    tm = u_time.astimezone(pytz.timezone('Asia/Tokyo'))\n",
    "    zn = tm.strftime('%Y/%m/%d %H:%M:%S')\n",
    "    return zn\n",
    "dt_now = datetime.datetime.now()\n",
    "time_now = dt_now.strftime('%Y%m%d%H%M%S')"
   ]
  },
  {
   "cell_type": "code",
   "execution_count": 2,
   "id": "0b6b23e4-8bcf-4719-aa43-dccc098d159e",
   "metadata": {},
   "outputs": [],
   "source": [
    "# v1認証\n",
    "auth = tweepy.OAuthHandler(Consumer_key, Consumer_secret)\n",
    "auth.set_access_token(Access_token, Access_secret)\n",
    "api = tweepy.API(auth)\n",
    "# v2認証\n",
    "client = tweepy.Client(\n",
    "    consumer_key=Consumer_key,\n",
    "    consumer_secret=Consumer_secret,\n",
    "    access_token=Access_token,\n",
    "    access_token_secret=Access_secret,\n",
    "    bearer_token=bearer_token\n",
    ")"
   ]
  },
  {
   "cell_type": "code",
   "execution_count": 4,
   "id": "de156792-6254-4943-9728-376e08979e43",
   "metadata": {},
   "outputs": [
    {
     "data": {
      "text/plain": [
       "Status(_api=<tweepy.api.API object at 0x000001BF16D3CE50>, _json={'created_at': 'Thu Feb 23 07:46:47 +0000 2023', 'id': 1628662643375411203, 'id_str': '1628662643375411203', 'text': '自動投稿テスト中', 'truncated': False, 'entities': {'hashtags': [], 'symbols': [], 'user_mentions': [], 'urls': []}, 'source': '<a href=\"https://twitter.com/nandemonaiboku\" rel=\"nofollow\">XXXXX-python2test2022</a>', 'in_reply_to_status_id': None, 'in_reply_to_status_id_str': None, 'in_reply_to_user_id': None, 'in_reply_to_user_id_str': None, 'in_reply_to_screen_name': None, 'user': {'id': 918858522804105217, 'id_str': '918858522804105217', 'name': 'みかん', 'screen_name': 'nandemonaiboku', 'location': '', 'description': '奈良出身。世界2周バックパッカー、ナンパおわり結婚。犬猫、動物こよなく愛してます。基本ずっとpython触ってます。', 'url': None, 'entities': {'description': {'urls': []}}, 'protected': False, 'followers_count': 103, 'friends_count': 444, 'listed_count': 13, 'created_at': 'Fri Oct 13 15:18:38 +0000 2017', 'favourites_count': 697, 'utc_offset': None, 'time_zone': None, 'geo_enabled': False, 'verified': False, 'statuses_count': 302, 'lang': None, 'contributors_enabled': False, 'is_translator': False, 'is_translation_enabled': False, 'profile_background_color': 'F5F8FA', 'profile_background_image_url': None, 'profile_background_image_url_https': None, 'profile_background_tile': False, 'profile_image_url': 'http://pbs.twimg.com/profile_images/1544294553376915463/82FQrKEf_normal.jpg', 'profile_image_url_https': 'https://pbs.twimg.com/profile_images/1544294553376915463/82FQrKEf_normal.jpg', 'profile_banner_url': 'https://pbs.twimg.com/profile_banners/918858522804105217/1584762317', 'profile_link_color': '1DA1F2', 'profile_sidebar_border_color': 'C0DEED', 'profile_sidebar_fill_color': 'DDEEF6', 'profile_text_color': '333333', 'profile_use_background_image': True, 'has_extended_profile': False, 'default_profile': True, 'default_profile_image': False, 'following': False, 'follow_request_sent': False, 'notifications': False, 'translator_type': 'none', 'withheld_in_countries': []}, 'geo': None, 'coordinates': None, 'place': None, 'contributors': None, 'is_quote_status': False, 'retweet_count': 0, 'favorite_count': 0, 'favorited': False, 'retweeted': False, 'lang': 'ja'}, created_at=datetime.datetime(2023, 2, 23, 7, 46, 47, tzinfo=datetime.timezone.utc), id=1628662643375411203, id_str='1628662643375411203', text='自動投稿テスト中', truncated=False, entities={'hashtags': [], 'symbols': [], 'user_mentions': [], 'urls': []}, source='XXXXX-python2test2022', source_url='https://twitter.com/nandemonaiboku', in_reply_to_status_id=None, in_reply_to_status_id_str=None, in_reply_to_user_id=None, in_reply_to_user_id_str=None, in_reply_to_screen_name=None, author=User(_api=<tweepy.api.API object at 0x000001BF16D3CE50>, _json={'id': 918858522804105217, 'id_str': '918858522804105217', 'name': 'みかん', 'screen_name': 'nandemonaiboku', 'location': '', 'description': '奈良出身。世界2周バックパッカー、ナンパおわり結婚。犬猫、動物こよなく愛してます。基本ずっとpython触ってます。', 'url': None, 'entities': {'description': {'urls': []}}, 'protected': False, 'followers_count': 103, 'friends_count': 444, 'listed_count': 13, 'created_at': 'Fri Oct 13 15:18:38 +0000 2017', 'favourites_count': 697, 'utc_offset': None, 'time_zone': None, 'geo_enabled': False, 'verified': False, 'statuses_count': 302, 'lang': None, 'contributors_enabled': False, 'is_translator': False, 'is_translation_enabled': False, 'profile_background_color': 'F5F8FA', 'profile_background_image_url': None, 'profile_background_image_url_https': None, 'profile_background_tile': False, 'profile_image_url': 'http://pbs.twimg.com/profile_images/1544294553376915463/82FQrKEf_normal.jpg', 'profile_image_url_https': 'https://pbs.twimg.com/profile_images/1544294553376915463/82FQrKEf_normal.jpg', 'profile_banner_url': 'https://pbs.twimg.com/profile_banners/918858522804105217/1584762317', 'profile_link_color': '1DA1F2', 'profile_sidebar_border_color': 'C0DEED', 'profile_sidebar_fill_color': 'DDEEF6', 'profile_text_color': '333333', 'profile_use_background_image': True, 'has_extended_profile': False, 'default_profile': True, 'default_profile_image': False, 'following': False, 'follow_request_sent': False, 'notifications': False, 'translator_type': 'none', 'withheld_in_countries': []}, id=918858522804105217, id_str='918858522804105217', name='みかん', screen_name='nandemonaiboku', location='', description='奈良出身。世界2周バックパッカー、ナンパおわり結婚。犬猫、動物こよなく愛してます。基本ずっとpython触ってます。', url=None, entities={'description': {'urls': []}}, protected=False, followers_count=103, friends_count=444, listed_count=13, created_at=datetime.datetime(2017, 10, 13, 15, 18, 38, tzinfo=datetime.timezone.utc), favourites_count=697, utc_offset=None, time_zone=None, geo_enabled=False, verified=False, statuses_count=302, lang=None, contributors_enabled=False, is_translator=False, is_translation_enabled=False, profile_background_color='F5F8FA', profile_background_image_url=None, profile_background_image_url_https=None, profile_background_tile=False, profile_image_url='http://pbs.twimg.com/profile_images/1544294553376915463/82FQrKEf_normal.jpg', profile_image_url_https='https://pbs.twimg.com/profile_images/1544294553376915463/82FQrKEf_normal.jpg', profile_banner_url='https://pbs.twimg.com/profile_banners/918858522804105217/1584762317', profile_link_color='1DA1F2', profile_sidebar_border_color='C0DEED', profile_sidebar_fill_color='DDEEF6', profile_text_color='333333', profile_use_background_image=True, has_extended_profile=False, default_profile=True, default_profile_image=False, following=False, follow_request_sent=False, notifications=False, translator_type='none', withheld_in_countries=[]), user=User(_api=<tweepy.api.API object at 0x000001BF16D3CE50>, _json={'id': 918858522804105217, 'id_str': '918858522804105217', 'name': 'みかん', 'screen_name': 'nandemonaiboku', 'location': '', 'description': '奈良出身。世界2周バックパッカー、ナンパおわり結婚。犬猫、動物こよなく愛してます。基本ずっとpython触ってます。', 'url': None, 'entities': {'description': {'urls': []}}, 'protected': False, 'followers_count': 103, 'friends_count': 444, 'listed_count': 13, 'created_at': 'Fri Oct 13 15:18:38 +0000 2017', 'favourites_count': 697, 'utc_offset': None, 'time_zone': None, 'geo_enabled': False, 'verified': False, 'statuses_count': 302, 'lang': None, 'contributors_enabled': False, 'is_translator': False, 'is_translation_enabled': False, 'profile_background_color': 'F5F8FA', 'profile_background_image_url': None, 'profile_background_image_url_https': None, 'profile_background_tile': False, 'profile_image_url': 'http://pbs.twimg.com/profile_images/1544294553376915463/82FQrKEf_normal.jpg', 'profile_image_url_https': 'https://pbs.twimg.com/profile_images/1544294553376915463/82FQrKEf_normal.jpg', 'profile_banner_url': 'https://pbs.twimg.com/profile_banners/918858522804105217/1584762317', 'profile_link_color': '1DA1F2', 'profile_sidebar_border_color': 'C0DEED', 'profile_sidebar_fill_color': 'DDEEF6', 'profile_text_color': '333333', 'profile_use_background_image': True, 'has_extended_profile': False, 'default_profile': True, 'default_profile_image': False, 'following': False, 'follow_request_sent': False, 'notifications': False, 'translator_type': 'none', 'withheld_in_countries': []}, id=918858522804105217, id_str='918858522804105217', name='みかん', screen_name='nandemonaiboku', location='', description='奈良出身。世界2周バックパッカー、ナンパおわり結婚。犬猫、動物こよなく愛してます。基本ずっとpython触ってます。', url=None, entities={'description': {'urls': []}}, protected=False, followers_count=103, friends_count=444, listed_count=13, created_at=datetime.datetime(2017, 10, 13, 15, 18, 38, tzinfo=datetime.timezone.utc), favourites_count=697, utc_offset=None, time_zone=None, geo_enabled=False, verified=False, statuses_count=302, lang=None, contributors_enabled=False, is_translator=False, is_translation_enabled=False, profile_background_color='F5F8FA', profile_background_image_url=None, profile_background_image_url_https=None, profile_background_tile=False, profile_image_url='http://pbs.twimg.com/profile_images/1544294553376915463/82FQrKEf_normal.jpg', profile_image_url_https='https://pbs.twimg.com/profile_images/1544294553376915463/82FQrKEf_normal.jpg', profile_banner_url='https://pbs.twimg.com/profile_banners/918858522804105217/1584762317', profile_link_color='1DA1F2', profile_sidebar_border_color='C0DEED', profile_sidebar_fill_color='DDEEF6', profile_text_color='333333', profile_use_background_image=True, has_extended_profile=False, default_profile=True, default_profile_image=False, following=False, follow_request_sent=False, notifications=False, translator_type='none', withheld_in_countries=[]), geo=None, coordinates=None, place=None, contributors=None, is_quote_status=False, retweet_count=0, favorite_count=0, favorited=False, retweeted=False, lang='ja')"
      ]
     },
     "execution_count": 4,
     "metadata": {},
     "output_type": "execute_result"
    }
   ],
   "source": [
    "api.update_status('自動投稿テスト中')"
   ]
  },
  {
   "cell_type": "code",
   "execution_count": 5,
   "id": "e4ec9939-22ec-44cf-8230-b95572013a51",
   "metadata": {},
   "outputs": [
    {
     "ename": "NameError",
     "evalue": "name 'tweet_id' is not defined",
     "output_type": "error",
     "traceback": [
      "\u001b[1;31m---------------------------------------------------------------------------\u001b[0m",
      "\u001b[1;31mNameError\u001b[0m                                 Traceback (most recent call last)",
      "\u001b[1;32m~\\AppData\\Local\\Temp\\ipykernel_22924\\1277262565.py\u001b[0m in \u001b[0;36m<module>\u001b[1;34m\u001b[0m\n\u001b[1;32m----> 1\u001b[1;33m \u001b[0mapi\u001b[0m\u001b[1;33m.\u001b[0m\u001b[0mretweet\u001b[0m\u001b[1;33m(\u001b[0m\u001b[0mtweet_id\u001b[0m\u001b[1;33m)\u001b[0m\u001b[1;33m\u001b[0m\u001b[1;33m\u001b[0m\u001b[0m\n\u001b[0m",
      "\u001b[1;31mNameError\u001b[0m: name 'tweet_id' is not defined"
     ]
    }
   ],
   "source": [
    "api.retweet(tweet_id)"
   ]
  },
  {
   "cell_type": "code",
   "execution_count": null,
   "id": "53139473-40c6-437e-82e7-c18910f0d6b3",
   "metadata": {},
   "outputs": [],
   "source": []
  }
 ],
 "metadata": {
  "kernelspec": {
   "display_name": "Python 3 (ipykernel)",
   "language": "python",
   "name": "python3"
  },
  "language_info": {
   "codemirror_mode": {
    "name": "ipython",
    "version": 3
   },
   "file_extension": ".py",
   "mimetype": "text/x-python",
   "name": "python",
   "nbconvert_exporter": "python",
   "pygments_lexer": "ipython3",
   "version": "3.9.13"
  },
  "vscode": {
   "interpreter": {
    "hash": "54abbb6ae0842753d7701089ffb21973b0bc073c9a0045b33e0c6e6f18287126"
   }
  }
 },
 "nbformat": 4,
 "nbformat_minor": 5
}
