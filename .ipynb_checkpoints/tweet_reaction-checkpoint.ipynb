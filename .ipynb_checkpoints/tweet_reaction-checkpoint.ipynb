{
 "cells": [
  {
   "cell_type": "code",
   "execution_count": 27,
   "id": "2733cb3c-08d8-4dc9-a483-1ca7ac8ab562",
   "metadata": {},
   "outputs": [],
   "source": [
    "#特定ツイートのライクした人、コメントした人の抽出"
   ]
  },
  {
   "cell_type": "code",
   "execution_count": 69,
   "id": "0802a2c4-561c-445b-899a-cb6a9810944f",
   "metadata": {},
   "outputs": [],
   "source": [
    "import json\n",
    "import tweepy\n",
    "from datetime import datetime,timezone\n",
    "import pytz\n",
    "import pandas as pd\n",
    "import datetime"
   ]
  },
  {
   "cell_type": "code",
   "execution_count": 70,
   "id": "856c9737-bd4e-474a-9b6f-7a16392e7b78",
   "metadata": {},
   "outputs": [],
   "source": [
    "tweet_id = \"1633700680002334720\"\n",
    "count = 200"
   ]
  },
  {
   "cell_type": "code",
   "execution_count": 71,
   "id": "f4376753-4a81-47b0-aded-e12dbc849fd9",
   "metadata": {},
   "outputs": [],
   "source": [
    "f = open('secret.json','r')\n",
    "key = json.load(f)\n",
    "Consumer_key = key['Consumer_key']\n",
    "Consumer_secret = key['Consumer_secret']\n",
    "Access_token = key['Access_token']\n",
    "Access_secret = key['Access_secret']\n",
    "bearer_token = key['bearer_token']"
   ]
  },
  {
   "cell_type": "code",
   "execution_count": 72,
   "id": "f0f7c4d8-1b36-487f-a29e-6b52d2ea36d4",
   "metadata": {},
   "outputs": [],
   "source": [
    "def get_userid(username):\n",
    "    username = username\n",
    "    user_result = client.get_user(username=username)\n",
    "    id = user_result.data.id\n",
    "    return id\n",
    "def change_time_JST(u_time):\n",
    "    tm = u_time.astimezone(pytz.timezone('Asia/Tokyo'))\n",
    "    zn = tm.strftime('%Y/%m/%d %H:%M:%S')\n",
    "    return zn\n",
    "def csvize(tw_data,text,labels,name):\n",
    "    name = name\n",
    "    #tw_dataのリストをpandasのDataFrameに変換\n",
    "    df = pd.DataFrame(tw_data,columns=labels)\n",
    "    #CSVファイルの名前を決める\n",
    "    file_name=name + '_'+text+'_'+time_now+'.csv'\n",
    "    #CSVファイルを出力する\n",
    "    df.to_csv('file/'+file_name,encoding='utf-8-sig',index=False)\n",
    "    \n",
    "dt_now = datetime.datetime.now()\n",
    "time_now = dt_now.strftime('%Y%m%d%H%M%S')"
   ]
  },
  {
   "cell_type": "code",
   "execution_count": 73,
   "id": "de156792-6254-4943-9728-376e08979e43",
   "metadata": {},
   "outputs": [],
   "source": [
    "# v1認証\n",
    "auth = tweepy.OAuthHandler(Consumer_key, Consumer_secret)\n",
    "auth.set_access_token(Access_token, Access_secret)\n",
    "api = tweepy.API(auth)\n",
    "# v2認証\n",
    "client = tweepy.Client(\n",
    "    consumer_key=Consumer_key,\n",
    "    consumer_secret=Consumer_secret,\n",
    "    access_token=Access_token,\n",
    "    access_token_secret=Access_secret,\n",
    "    bearer_token=bearer_token\n",
    ")"
   ]
  },
  {
   "cell_type": "code",
   "execution_count": 74,
   "id": "b580b8ed-c7f2-4764-bb66-3b4401ae73ff",
   "metadata": {},
   "outputs": [
    {
     "name": "stdout",
     "output_type": "stream",
     "text": [
      "first_flg: True\n",
      "next_token: 7140dibdnow9c7btw4827mt35v8bptyx4d4pq4ub0y4hc\n",
      "first_flg: False\n",
      "next_token: 7140dibdnow9c7btw4827mt34d1d5l9tv0lbgx1q1q43a\n",
      "first_flg: False\n",
      "最後のページに到達しました\n",
      "取得したデータ数：151\n"
     ]
    }
   ],
   "source": [
    "# 特定ツイートにライクしたアカウント\n",
    "tw_data = []\n",
    "next_token = \"\"\n",
    "first_flg = True\n",
    "\n",
    "while True:\n",
    "    print(\"first_flg: \" + str(first_flg))\n",
    "    if first_flg == True:\n",
    "        #1回目リクエスト    \n",
    "        users = client.get_liking_users(tweet_id)\n",
    "        first_flg = False\n",
    "    else:\n",
    "        #2回目リクエスト    \n",
    "        users = client.get_liking_users(tweet_id,pagination_token=next_token)\n",
    "    try:\n",
    "        next_token = users[3]['next_token']\n",
    "        print(\"next_token: \" + next_token)\n",
    "    except KeyError:\n",
    "        #next_tokenが取得できない（最後のリクエスト）の場合はループ終了\n",
    "        print(\"最後のページに到達しました\")\n",
    "        break\n",
    "    for user in users.data:\n",
    "            tw_data.append([\n",
    "            user.id,\n",
    "            user.name])\n",
    "print(f\"取得したデータ数：{len(tw_data)}\")"
   ]
  },
  {
   "cell_type": "code",
   "execution_count": 75,
   "id": "9847621b-20ce-43b5-9c8b-23df7e4d5d1c",
   "metadata": {},
   "outputs": [],
   "source": [
    "labels=[\n",
    "'ID',\n",
    "'アカウント'\n",
    "]\n",
    "csvize(tw_data,tweet_id,labels,\"tweet_like_account\")"
   ]
  },
  {
   "cell_type": "code",
   "execution_count": 76,
   "id": "b027ba06-18fc-450c-95e9-c68875a12788",
   "metadata": {},
   "outputs": [
    {
     "name": "stdout",
     "output_type": "stream",
     "text": [
      "first_flg: True\n",
      "next_token: 7140dibdnow9c7btw4827mt38w1p2h235okx8xt3bsier\n",
      "first_flg: False\n",
      "最後のページに到達しました\n",
      "取得したデータ数：1\n"
     ]
    }
   ],
   "source": [
    "# 特定ツイートにリツイートしたアカウント\n",
    "tw_data = []\n",
    "next_token = \"\"\n",
    "first_flg = True\n",
    "\n",
    "while True:\n",
    "    print(\"first_flg: \" + str(first_flg))\n",
    "    if first_flg == True:\n",
    "        #1回目リクエスト    \n",
    "        users = client.get_retweeters(tweet_id)\n",
    "        first_flg = False\n",
    "    else:\n",
    "        #2回目リクエスト    \n",
    "        users = client.get_retweeters(tweet_id,pagination_token=next_token)\n",
    "    try:\n",
    "        next_token = users[3]['next_token']\n",
    "        print(\"next_token: \" + next_token)\n",
    "    except KeyError:\n",
    "        #next_tokenが取得できない（最後のリクエスト）の場合はループ終了\n",
    "        print(\"最後のページに到達しました\")\n",
    "        break\n",
    "    for user in users.data:\n",
    "            tw_data.append([\n",
    "            user.id,\n",
    "            user.name])\n",
    "print(f\"取得したデータ数：{len(tw_data)}\")"
   ]
  },
  {
   "cell_type": "code",
   "execution_count": 77,
   "id": "fa27e606-52ea-4a9c-8d79-c1310c3648f8",
   "metadata": {},
   "outputs": [],
   "source": [
    "labels=[\n",
    "'ID',\n",
    "'アカウント'\n",
    "]\n",
    "csvize(tw_data,tweet_id,labels,\"tweet_retweet_account\")"
   ]
  },
  {
   "cell_type": "code",
   "execution_count": null,
   "id": "b3073d9b-ca89-4d3d-bf0f-f3cf5cdf0bb8",
   "metadata": {},
   "outputs": [],
   "source": []
  },
  {
   "cell_type": "code",
   "execution_count": null,
   "id": "e20e04b8-2b64-43c7-98ff-211e4713af09",
   "metadata": {},
   "outputs": [],
   "source": []
  }
 ],
 "metadata": {
  "kernelspec": {
   "display_name": "Python 3 (ipykernel)",
   "language": "python",
   "name": "python3"
  },
  "language_info": {
   "codemirror_mode": {
    "name": "ipython",
    "version": 3
   },
   "file_extension": ".py",
   "mimetype": "text/x-python",
   "name": "python",
   "nbconvert_exporter": "python",
   "pygments_lexer": "ipython3",
   "version": "3.9.13"
  },
  "vscode": {
   "interpreter": {
    "hash": "54abbb6ae0842753d7701089ffb21973b0bc073c9a0045b33e0c6e6f18287126"
   }
  }
 },
 "nbformat": 4,
 "nbformat_minor": 5
}
