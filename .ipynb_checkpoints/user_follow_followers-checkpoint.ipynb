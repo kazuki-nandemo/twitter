{
 "cells": [
  {
   "cell_type": "code",
   "execution_count": 31,
   "id": "dd633b70-5648-4942-83f3-024cf1cc4e09",
   "metadata": {},
   "outputs": [],
   "source": [
    "#フォロワー・フォロー\n",
    "# !pip install tweepy"
   ]
  },
  {
   "cell_type": "code",
   "execution_count": 1,
   "id": "1c848ba0-2c3f-492a-9581-1deaff5af89e",
   "metadata": {},
   "outputs": [],
   "source": [
    "import json\n",
    "import tweepy\n",
    "from datetime import datetime,timezone\n",
    "import pytz\n",
    "import pandas as pd\n",
    "import datetime"
   ]
  },
  {
   "cell_type": "code",
   "execution_count": 2,
   "id": "f35e581c-a22e-4d7d-98ef-11c87251588e",
   "metadata": {},
   "outputs": [],
   "source": [
    "username = \"git_media\""
   ]
  },
  {
   "cell_type": "code",
   "execution_count": 3,
   "id": "e30b76fa-c601-4c80-91e3-1d9733321bc0",
   "metadata": {},
   "outputs": [],
   "source": [
    "f = open('secret.json','r')\n",
    "key = json.load(f)\n",
    "Consumer_key = key['Consumer_key']\n",
    "Consumer_secret = key['Consumer_secret']\n",
    "Access_token = key['Access_token']\n",
    "Access_secret = key['Access_secret']\n",
    "bearer_token = key['bearer_token']"
   ]
  },
  {
   "cell_type": "code",
   "execution_count": 4,
   "id": "cac87664-9dd5-47ea-b492-46c7d91ea080",
   "metadata": {},
   "outputs": [],
   "source": [
    "def get_userid(username):\n",
    "    username = username\n",
    "    user_result = client.get_user(username=username)\n",
    "    id = user_result.data.id\n",
    "    return id\n",
    "def change_time_JST(u_time):\n",
    "    tm = u_time.astimezone(pytz.timezone('Asia/Tokyo'))\n",
    "    zn = tm.strftime('%Y/%m/%d %H:%M:%S')\n",
    "    return zn\n",
    "def csvize(tw_data,text,labels,name):\n",
    "    name = name\n",
    "    #tw_dataのリストをpandasのDataFrameに変換\n",
    "    df = pd.DataFrame(tw_data,columns=labels)\n",
    "    #CSVファイルの名前を決める\n",
    "    file_name=name + '_'+text+'_'+time_now+'.csv'\n",
    "    #CSVファイルを出力する\n",
    "    df.to_csv('file/'+file_name,encoding='utf-8-sig',index=False)\n",
    "    \n",
    "dt_now = datetime.datetime.now()\n",
    "time_now = dt_now.strftime('%Y%m%d%H%M%S')"
   ]
  },
  {
   "cell_type": "code",
   "execution_count": 5,
   "id": "039c0c0c-935e-4b26-ab3e-f96bbae558af",
   "metadata": {},
   "outputs": [],
   "source": [
    "# OAuth認証\n",
    "auth = tweepy.OAuthHandler(Consumer_key, Consumer_secret)\n",
    "auth.set_access_token(Access_token, Access_secret)\n",
    "api = tweepy.API(auth)\n",
    "\n",
    "client = tweepy.Client(\n",
    "    consumer_key=Consumer_key,\n",
    "    consumer_secret=Consumer_secret,\n",
    "    access_token=Access_token,\n",
    "    access_token_secret=Access_secret,\n",
    "    bearer_token=bearer_token\n",
    ")"
   ]
  },
  {
   "cell_type": "code",
   "execution_count": 6,
   "id": "4bf143d6-45c2-4a06-9830-f2b8cb46ef13",
   "metadata": {},
   "outputs": [],
   "source": [
    "user_id = get_userid(username)\n",
    "labels=['アカウントID','アカウント名']"
   ]
  },
  {
   "cell_type": "code",
   "execution_count": 7,
   "id": "80870498-23e8-4018-9bec-02b307f821f4",
   "metadata": {},
   "outputs": [
    {
     "name": "stdout",
     "output_type": "stream",
     "text": [
      "first_flg: True\n",
      "next_token: VQTV6QDM338HEZZZ\n",
      "first_flg: False\n",
      "next_token: G0NGU8I3EV81EZZZ\n",
      "first_flg: False\n",
      "next_token: E2CEH0T59F61EZZZ\n",
      "first_flg: False\n",
      "next_token: FHC9AJ3O8B1HEZZZ\n",
      "first_flg: False\n",
      "next_token: VTEGQNKT5QVHEZZZ\n",
      "first_flg: False\n",
      "next_token: O9HAILUJS6UHEZZZ\n",
      "first_flg: False\n",
      "最後のページに到達しました\n",
      "取得したデータ数：604\n"
     ]
    }
   ],
   "source": [
    "tw_data = []\n",
    "next_token = \"\"\n",
    "first_flg = True\n",
    "while True:\n",
    "    print(\"first_flg: \" + str(first_flg))\n",
    "    if first_flg == True:\n",
    "        #1回目リクエスト    \n",
    "        follows = client.get_users_following(user_id)\n",
    "        first_flg = False\n",
    "    else:\n",
    "        #2回目リクエスト    \n",
    "        follows = client.get_users_following(user_id,pagination_token=next_token)\n",
    "    for user in follows.data:\n",
    "        tw_data.append([\n",
    "        user.username, user.name]) \n",
    "    try:\n",
    "        next_token = follows[3]['next_token']\n",
    "        print(\"next_token: \" + next_token)\n",
    "    except KeyError:\n",
    "        #next_tokenが取得できない（最後のリクエスト）の場合はループ終了\n",
    "        print(\"最後のページに到達しました\")\n",
    "        break\n",
    "print(f\"取得したデータ数：{len(tw_data)}\")"
   ]
  },
  {
   "cell_type": "code",
   "execution_count": 8,
   "id": "9a76e2ac-8e51-4fc4-846e-20aebb80c5e1",
   "metadata": {},
   "outputs": [],
   "source": [
    "csvize(tw_data,username,labels,\"follows\")"
   ]
  },
  {
   "cell_type": "code",
   "execution_count": 9,
   "id": "3ab9722a-0815-451b-a42f-3d97cc58ff3a",
   "metadata": {},
   "outputs": [
    {
     "name": "stdout",
     "output_type": "stream",
     "text": [
      "first_flg: True\n",
      "100\n",
      "next_token: FBC3CV6IOV81EZZZ\n",
      "first_flg: False\n",
      "200\n",
      "next_token: ENE46GLFS731EZZZ\n",
      "first_flg: False\n",
      "300\n",
      "next_token: MMBPHH41MJ01EZZZ\n",
      "first_flg: False\n",
      "400\n",
      "next_token: 7S2NKQV362V1EZZZ\n",
      "first_flg: False\n",
      "425\n",
      "最後のページに到達しました\n",
      "取得したデータ数：425\n"
     ]
    }
   ],
   "source": [
    "tw_data = []\n",
    "next_token = \"\"\n",
    "first_flg = True\n",
    "while True:\n",
    "    print(\"first_flg: \" + str(first_flg))\n",
    "    if first_flg == True:\n",
    "        #1回目リクエスト\n",
    "        followers = client.get_users_followers(id=user_id, max_results=\"100\")\n",
    "        #初回フラグを落とす\n",
    "        first_flg = False\n",
    "    else:\n",
    "        #2回目移行リクエスト\n",
    "        followers = client.get_users_followers(id=user_id, max_results=\"100\", pagination_token=next_token)\n",
    "    for user in followers.data:\n",
    "        tw_data.append([\n",
    "        user.username, user.name])\n",
    "    print(len(tw_data))\n",
    "        \n",
    "    try:\n",
    "        next_token = followers.meta['next_token']\n",
    "        print(\"next_token: \" + next_token)\n",
    "    except KeyError:\n",
    "        #next_tokenが取得できない（最後のリクエスト）の場合はループ終了\n",
    "        print(\"最後のページに到達しました\")\n",
    "        break\n",
    "print(f\"取得したデータ数：{len(tw_data)}\")"
   ]
  },
  {
   "cell_type": "code",
   "execution_count": 10,
   "id": "f03e8ec9-7025-4ea6-8254-4d3977bfb945",
   "metadata": {},
   "outputs": [],
   "source": [
    "csvize(tw_data,username,labels,\"follower\")"
   ]
  },
  {
   "cell_type": "code",
   "execution_count": null,
   "id": "70e97394-74b7-40a7-a598-bfd998246ffc",
   "metadata": {},
   "outputs": [],
   "source": [
    "#まだ未完成"
   ]
  },
  {
   "cell_type": "code",
   "execution_count": 16,
   "id": "17f3e905-58ed-4ccd-ac5c-70d7a9587e1f",
   "metadata": {},
   "outputs": [
    {
     "ename": "SyntaxError",
     "evalue": "invalid syntax (1349767501.py, line 7)",
     "output_type": "error",
     "traceback": [
      "\u001b[1;36m  File \u001b[1;32m\"C:\\Users\\kurata.kazuki\\AppData\\Local\\Temp\\ipykernel_15188\\1349767501.py\"\u001b[1;36m, line \u001b[1;32m7\u001b[0m\n\u001b[1;33m    if input(\"Y/N?\") in ['y','Y']:\u001b[0m\n\u001b[1;37m                                 ^\u001b[0m\n\u001b[1;31mSyntaxError\u001b[0m\u001b[1;31m:\u001b[0m invalid syntax\n"
     ]
    }
   ],
   "source": [
    "# フォローユーザー分だけループ\n",
    "for f in follows:\n",
    "    # フォローユーザーがフォロワー一覧に含まれていないなら\n",
    "    if f not in followers:\n",
    "        print(f)\n",
    "        # print(\"ID:{}、ユーザー名:{}をアンフォローしますか？\".format(f['name'], f['username'])\n",
    "        if input(\"Y/N?\") in ['y','Y']:\n",
    "              api.destroy_friendship(f)\n",
    "              print(\"ID:{}、ユーザー名:{}をフォローを解除しました。\".format(api.get_user(f).screen_name, api.get_user(f).name))"
   ]
  },
  {
   "cell_type": "code",
   "execution_count": null,
   "id": "1da90d42-c02c-44ee-9304-8c3d1ffe7b9f",
   "metadata": {},
   "outputs": [],
   "source": []
  }
 ],
 "metadata": {
  "kernelspec": {
   "display_name": "Python 3 (ipykernel)",
   "language": "python",
   "name": "python3"
  },
  "language_info": {
   "codemirror_mode": {
    "name": "ipython",
    "version": 3
   },
   "file_extension": ".py",
   "mimetype": "text/x-python",
   "name": "python",
   "nbconvert_exporter": "python",
   "pygments_lexer": "ipython3",
   "version": "3.9.13"
  }
 },
 "nbformat": 4,
 "nbformat_minor": 5
}
