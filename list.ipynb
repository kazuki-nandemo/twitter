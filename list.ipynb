{
 "cells": [
  {
   "cell_type": "code",
   "execution_count": null,
   "id": "2733cb3c-08d8-4dc9-a483-1ca7ac8ab562",
   "metadata": {},
   "outputs": [],
   "source": [
    "#リストのフォロワー\n",
    "#リストのメンバー\n",
    "#リストのツイート"
   ]
  },
  {
   "cell_type": "code",
   "execution_count": 71,
   "id": "a545c164-5ef1-412e-9990-518cf7d1f97d",
   "metadata": {},
   "outputs": [],
   "source": [
    "# !pip install tweepy"
   ]
  },
  {
   "cell_type": "code",
   "execution_count": 86,
   "id": "0802a2c4-561c-445b-899a-cb6a9810944f",
   "metadata": {},
   "outputs": [],
   "source": [
    "import json\n",
    "import tweepy\n",
    "from datetime import datetime,timezone\n",
    "import pytz\n",
    "import pandas as pd\n",
    "import datetime"
   ]
  },
  {
   "cell_type": "code",
   "execution_count": 87,
   "id": "856c9737-bd4e-474a-9b6f-7a16392e7b78",
   "metadata": {},
   "outputs": [],
   "source": [
    "id = \"1377818364685418498\"\n",
    "count = 2000"
   ]
  },
  {
   "cell_type": "code",
   "execution_count": 88,
   "id": "f4376753-4a81-47b0-aded-e12dbc849fd9",
   "metadata": {},
   "outputs": [],
   "source": [
    "f = open('secret.json','r')\n",
    "key = json.load(f)\n",
    "Consumer_key = key['Consumer_key']\n",
    "Consumer_secret = key['Consumer_secret']\n",
    "Access_token = key['Access_token']\n",
    "Access_secret = key['Access_secret']\n",
    "bearer_token = key['bearer_token']"
   ]
  },
  {
   "cell_type": "code",
   "execution_count": 89,
   "id": "f0f7c4d8-1b36-487f-a29e-6b52d2ea36d4",
   "metadata": {},
   "outputs": [],
   "source": [
    "def get_userid(username):\n",
    "    username = username\n",
    "    user_result = client.get_user(username=username)\n",
    "    id = user_result.data.id\n",
    "    return id\n",
    "def change_time_JST(u_time):\n",
    "    tm = u_time.astimezone(pytz.timezone('Asia/Tokyo'))\n",
    "    zn = tm.strftime('%Y/%m/%d %H:%M:%S')\n",
    "    return zn\n",
    "def csvize(tw_data,text,labels,name):\n",
    "    name = name\n",
    "    #tw_dataのリストをpandasのDataFrameに変換\n",
    "    df = pd.DataFrame(tw_data,columns=labels)\n",
    "    #CSVファイルの名前を決める\n",
    "    file_name=name + '_'+text+'_'+time_now+'.csv'\n",
    "    #CSVファイルを出力する\n",
    "    df.to_csv('file/'+file_name,encoding='utf-8-sig',index=False)\n",
    "    \n",
    "dt_now = datetime.datetime.now()\n",
    "time_now = dt_now.strftime('%Y%m%d%H%M%S')"
   ]
  },
  {
   "cell_type": "code",
   "execution_count": 90,
   "id": "de156792-6254-4943-9728-376e08979e43",
   "metadata": {},
   "outputs": [],
   "source": [
    "# v1認証\n",
    "auth = tweepy.OAuthHandler(Consumer_key, Consumer_secret)\n",
    "auth.set_access_token(Access_token, Access_secret)\n",
    "api = tweepy.API(auth)\n",
    "# v2認証\n",
    "client = tweepy.Client(\n",
    "    consumer_key=Consumer_key,\n",
    "    consumer_secret=Consumer_secret,\n",
    "    access_token=Access_token,\n",
    "    access_token_secret=Access_secret,\n",
    "    bearer_token=bearer_token\n",
    ")"
   ]
  },
  {
   "cell_type": "code",
   "execution_count": 91,
   "id": "b580b8ed-c7f2-4764-bb66-3b4401ae73ff",
   "metadata": {},
   "outputs": [
    {
     "name": "stdout",
     "output_type": "stream",
     "text": [
      "first_flg: True\n",
      "next_token: 7140dibdnow9c7btw451l2puoi0f1m0nghpxt6uugn86u\n",
      "next_token: 7140dibdnow9c7btw451l0m0ow4j71hxzbw6m94hjjh9v\n",
      "next_token: 7140dibdnow9c7btw451kyhl8x0itjwajetxuiercgta0\n",
      "next_token: 7140dibdnow9c7btw451kyfsrgxcyy1rwo89h59mrlik4\n",
      "next_token: 7140dibdnow9c7btw451kwc9uvxc9aizaucq0gpockpbr\n",
      "next_token: 7140dibdnow9c7btw45169yd3e5jt3ukcb0696y398euw\n",
      "next_token: 7140dibdnow9c7btw45169vny0q9jkod6reevuzrmr7sk\n",
      "next_token: 7140dibdnow9c7btw45167s4sbcmyrpo31a17m4350jsl\n",
      "最後のページに到達しました\n",
      "取得したデータ数：747\n"
     ]
    }
   ],
   "source": [
    "tw_data = []\n",
    "next_token = \"\"\n",
    "first_flg = True\n",
    "\n",
    "while True:\n",
    "    if first_flg == True:\n",
    "        print(\"first_flg: \" + str(first_flg))\n",
    "        #1回目リクエスト    \n",
    "        l_tweets = client.get_list_tweets(id)\n",
    "        first_flg = False\n",
    "    else:\n",
    "        #2回目リクエスト    \n",
    "        l_tweets = client.get_list_tweets(id,pagination_token=next_token)\n",
    "    try:\n",
    "        next_token = l_tweets[3]['next_token']\n",
    "        print(\"next_token: \" + next_token)\n",
    "    except KeyError:\n",
    "        #next_tokenが取得できない（最後のリクエスト）の場合はループ終了\n",
    "        print(\"最後のページに到達しました\")\n",
    "        break\n",
    "    for tweet in l_tweets.data:\n",
    "            tw_data.append([\n",
    "            tweet.id,\n",
    "            tweet.text,])\n",
    "print(f\"取得したデータ数：{len(tw_data)}\")"
   ]
  },
  {
   "cell_type": "code",
   "execution_count": 92,
   "id": "313960fa-ef3f-4793-89b4-7dcbe547e312",
   "metadata": {},
   "outputs": [],
   "source": [
    "labels=[\n",
    "'ツイートID',\n",
    "'ツイート本文'\n",
    "]\n",
    "csvize(tw_data,id,labels,\"list_tweet\")"
   ]
  },
  {
   "cell_type": "code",
   "execution_count": 94,
   "id": "a662094e-8d8d-4db2-9e50-933f66081347",
   "metadata": {},
   "outputs": [],
   "source": [
    "#フォロワー"
   ]
  },
  {
   "cell_type": "code",
   "execution_count": 95,
   "id": "46d35751-459d-4125-a1d1-8e7f2b9c4772",
   "metadata": {},
   "outputs": [
    {
     "name": "stdout",
     "output_type": "stream",
     "text": [
      "first_flg: True\n",
      "next_token: 1727000581697439904\n",
      "next_token: 1710656800290005764\n",
      "next_token: 1696712082261366859\n",
      "最後のページに到達しました\n",
      "取得したデータ数：300\n"
     ]
    }
   ],
   "source": [
    "tw_data = []\n",
    "next_token = \"\"\n",
    "first_flg = True\n",
    "\n",
    "while True:\n",
    "    if first_flg == True:\n",
    "        print(\"first_flg: \" + str(first_flg))\n",
    "        #1回目リクエスト    \n",
    "        followers = client.get_list_followers(id)\n",
    "        first_flg = False\n",
    "    else:\n",
    "        #2回目リクエスト    \n",
    "        followers = client.get_list_followers(id,pagination_token=next_token)\n",
    "    try:\n",
    "        next_token = followers[3]['next_token']\n",
    "        print(\"next_token: \" + next_token)\n",
    "    except KeyError:\n",
    "        #next_tokenが取得できない（最後のリクエスト）の場合はループ終了\n",
    "        print(\"最後のページに到達しました\")\n",
    "        break\n",
    "    for follower in followers.data:\n",
    "            tw_data.append([\n",
    "            follower.id,\n",
    "            follower.name])\n",
    "print(f\"取得したデータ数：{len(tw_data)}\")"
   ]
  },
  {
   "cell_type": "code",
   "execution_count": 81,
   "id": "b027ba06-18fc-450c-95e9-c68875a12788",
   "metadata": {},
   "outputs": [],
   "source": [
    "labels=[\n",
    "'ID',\n",
    "'アカウント'\n",
    "]\n",
    "\n",
    "csvize(tw_data,id,labels,\"list_follower\")"
   ]
  },
  {
   "cell_type": "code",
   "execution_count": 68,
   "id": "d6996c6b-444e-45cd-903e-9f9be26fb329",
   "metadata": {},
   "outputs": [],
   "source": [
    "#メンバー"
   ]
  },
  {
   "cell_type": "code",
   "execution_count": 107,
   "id": "e83a286c-4cc5-49e3-9973-ca7a0ab87753",
   "metadata": {},
   "outputs": [
    {
     "name": "stdout",
     "output_type": "stream",
     "text": [
      "first_flg: True\n",
      "24\n",
      "最後のページに到達しました\n",
      "取得したデータ数：0\n"
     ]
    }
   ],
   "source": [
    "tw_data = []\n",
    "next_token = \"\"\n",
    "first_flg = True\n",
    "\n",
    "while True:\n",
    "    print(\"first_flg: \" + str(first_flg))\n",
    "    if first_flg == True:\n",
    "        #1回目リクエスト    \n",
    "        followers = client.get_list_members(id)\n",
    "        first_flg = False\n",
    "        print(len(followers.data))\n",
    "    else:\n",
    "        #2回目リクエスト    \n",
    "        followers = client.get_list_members(id,pagination_token=next_token)\n",
    "    try:\n",
    "        next_token = followers[3]['next_token']\n",
    "        print(\"next_token: \" + next_token)\n",
    "    except KeyError:\n",
    "        #next_tokenが取得できない（最後のリクエスト）の場合はループ終了\n",
    "        print(\"最後のページに到達しました\")\n",
    "        break"
   ]
  },
  {
   "cell_type": "code",
   "execution_count": 109,
   "id": "603bf9e0-28cc-4f04-bd5a-8e2c87509e9f",
   "metadata": {},
   "outputs": [
    {
     "name": "stdout",
     "output_type": "stream",
     "text": [
      "取得したデータ数：24\n"
     ]
    }
   ],
   "source": [
    "for follower in followers.data:\n",
    "        tw_data.append([\n",
    "        follower.id,\n",
    "        follower.name])\n",
    "print(f\"取得したデータ数：{len(tw_data)}\")"
   ]
  },
  {
   "cell_type": "code",
   "execution_count": 108,
   "id": "649dc451-8461-4e3c-ab0d-2a35a1342d60",
   "metadata": {},
   "outputs": [],
   "source": [
    "labels=[\n",
    "'ID',\n",
    "'アカウント'\n",
    "]\n",
    "csvize(tw_data,id,labels,\"list_member\")"
   ]
  },
  {
   "cell_type": "code",
   "execution_count": null,
   "id": "ba390969-6b2a-4147-9a35-8bdb38d4be6d",
   "metadata": {},
   "outputs": [],
   "source": []
  }
 ],
 "metadata": {
  "kernelspec": {
   "display_name": "Python 3 (ipykernel)",
   "language": "python",
   "name": "python3"
  },
  "language_info": {
   "codemirror_mode": {
    "name": "ipython",
    "version": 3
   },
   "file_extension": ".py",
   "mimetype": "text/x-python",
   "name": "python",
   "nbconvert_exporter": "python",
   "pygments_lexer": "ipython3",
   "version": "3.9.13"
  },
  "vscode": {
   "interpreter": {
    "hash": "54abbb6ae0842753d7701089ffb21973b0bc073c9a0045b33e0c6e6f18287126"
   }
  }
 },
 "nbformat": 4,
 "nbformat_minor": 5
}
