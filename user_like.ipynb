{
 "cells": [
  {
   "cell_type": "code",
   "execution_count": 31,
   "id": "dd633b70-5648-4942-83f3-024cf1cc4e09",
   "metadata": {},
   "outputs": [],
   "source": [
    "#未完成\n",
    "#ユーザーがライクしたもの\n",
    "# !pip install tweepy"
   ]
  },
  {
   "cell_type": "code",
   "execution_count": 31,
   "id": "1c848ba0-2c3f-492a-9581-1deaff5af89e",
   "metadata": {},
   "outputs": [],
   "source": [
    "import json\n",
    "import tweepy\n",
    "from datetime import datetime,timezone\n",
    "import pytz\n",
    "import pandas as pd\n",
    "import datetime"
   ]
  },
  {
   "cell_type": "code",
   "execution_count": 32,
   "id": "f35e581c-a22e-4d7d-98ef-11c87251588e",
   "metadata": {},
   "outputs": [],
   "source": [
    "username = \"git_media\""
   ]
  },
  {
   "cell_type": "code",
   "execution_count": 33,
   "id": "e30b76fa-c601-4c80-91e3-1d9733321bc0",
   "metadata": {},
   "outputs": [],
   "source": [
    "f = open('secret.json','r')\n",
    "key = json.load(f)\n",
    "Consumer_key = key['Consumer_key']\n",
    "Consumer_secret = key['Consumer_secret']\n",
    "Access_token = key['Access_token']\n",
    "Access_secret = key['Access_secret']\n",
    "bearer_token = key['bearer_token']"
   ]
  },
  {
   "cell_type": "code",
   "execution_count": 34,
   "id": "cac87664-9dd5-47ea-b492-46c7d91ea080",
   "metadata": {},
   "outputs": [],
   "source": [
    "def get_userid(username):\n",
    "    username = username\n",
    "    user_result = client.get_user(username=username)\n",
    "    id = user_result.data.id\n",
    "    return id\n",
    "def change_time_JST(u_time):\n",
    "    tm = u_time.astimezone(pytz.timezone('Asia/Tokyo'))\n",
    "    zn = tm.strftime('%Y/%m/%d %H:%M:%S')\n",
    "    return zn\n",
    "def csvize(tw_data,text,labels,name):\n",
    "    name = name\n",
    "    #tw_dataのリストをpandasのDataFrameに変換\n",
    "    df = pd.DataFrame(tw_data,columns=labels)\n",
    "    #CSVファイルの名前を決める\n",
    "    file_name=name + '_'+text+'_'+time_now+'.csv'\n",
    "    #CSVファイルを出力する\n",
    "    df.to_csv('file/'+file_name,encoding='utf-8-sig',index=False)\n",
    "    \n",
    "dt_now = datetime.datetime.now()\n",
    "time_now = dt_now.strftime('%Y%m%d%H%M%S')"
   ]
  },
  {
   "cell_type": "code",
   "execution_count": 35,
   "id": "039c0c0c-935e-4b26-ab3e-f96bbae558af",
   "metadata": {},
   "outputs": [],
   "source": [
    "# OAuth認証\n",
    "auth = tweepy.OAuthHandler(Consumer_key, Consumer_secret)\n",
    "auth.set_access_token(Access_token, Access_secret)\n",
    "api = tweepy.API(auth)\n",
    "\n",
    "client = tweepy.Client(\n",
    "    consumer_key=Consumer_key,\n",
    "    consumer_secret=Consumer_secret,\n",
    "    access_token=Access_token,\n",
    "    access_token_secret=Access_secret,\n",
    "    bearer_token=bearer_token\n",
    ")"
   ]
  },
  {
   "cell_type": "code",
   "execution_count": 36,
   "id": "4bf143d6-45c2-4a06-9830-f2b8cb46ef13",
   "metadata": {},
   "outputs": [],
   "source": [
    "user_id = get_userid(username)\n",
    "labels=['id','text']"
   ]
  },
  {
   "cell_type": "code",
   "execution_count": 37,
   "id": "80870498-23e8-4018-9bec-02b307f821f4",
   "metadata": {},
   "outputs": [
    {
     "name": "stdout",
     "output_type": "stream",
     "text": [
      "first_flg: True\n",
      "next_token: 7140dibdnow9c7btw480irtig0npwqbr5wls0r87x9feg\n",
      "first_flg: False\n",
      "next_token: 7140dibdnow9c7btw480ih6s5mq9codmjzmmhlsj0qq7p\n",
      "first_flg: False\n"
     ]
    },
    {
     "ename": "TypeError",
     "evalue": "'NoneType' object is not iterable",
     "output_type": "error",
     "traceback": [
      "\u001b[1;31m---------------------------------------------------------------------------\u001b[0m",
      "\u001b[1;31mTypeError\u001b[0m                                 Traceback (most recent call last)",
      "\u001b[1;32m~\\AppData\\Local\\Temp\\ipykernel_21276\\2886845370.py\u001b[0m in \u001b[0;36m<module>\u001b[1;34m\u001b[0m\n\u001b[0;32m     11\u001b[0m         \u001b[1;31m#2回目リクエスト\u001b[0m\u001b[1;33m\u001b[0m\u001b[1;33m\u001b[0m\u001b[0m\n\u001b[0;32m     12\u001b[0m         \u001b[0mtweets\u001b[0m \u001b[1;33m=\u001b[0m \u001b[0mclient\u001b[0m\u001b[1;33m.\u001b[0m\u001b[0mget_liked_tweets\u001b[0m\u001b[1;33m(\u001b[0m\u001b[0muser_id\u001b[0m\u001b[1;33m,\u001b[0m\u001b[0mpagination_token\u001b[0m\u001b[1;33m=\u001b[0m\u001b[0mnext_token\u001b[0m\u001b[1;33m)\u001b[0m\u001b[1;33m\u001b[0m\u001b[1;33m\u001b[0m\u001b[0m\n\u001b[1;32m---> 13\u001b[1;33m     \u001b[1;32mfor\u001b[0m \u001b[0mtweet\u001b[0m \u001b[1;32min\u001b[0m \u001b[0mtweets\u001b[0m\u001b[1;33m.\u001b[0m\u001b[0mdata\u001b[0m\u001b[1;33m:\u001b[0m\u001b[1;33m\u001b[0m\u001b[1;33m\u001b[0m\u001b[0m\n\u001b[0m\u001b[0;32m     14\u001b[0m         tw_data.append([\n\u001b[0;32m     15\u001b[0m         tweet.id, tweet.text]) \n",
      "\u001b[1;31mTypeError\u001b[0m: 'NoneType' object is not iterable"
     ]
    }
   ],
   "source": [
    "\n",
    "tw_data = []\n",
    "next_token = \"\"\n",
    "first_flg = True\n",
    "while True:\n",
    "    print(\"first_flg: \" + str(first_flg))\n",
    "    if first_flg == True:\n",
    "        #1回目リクエスト    \n",
    "        tweets = client.get_liked_tweets(user_id)\n",
    "        first_flg = False\n",
    "    else:\n",
    "        #2回目リクエスト    \n",
    "        tweets = client.get_liked_tweets(user_id,pagination_token=next_token)\n",
    "    for tweet in tweets.data:\n",
    "        tw_data.append([\n",
    "        tweet.id, tweet.text]) \n",
    "    try:\n",
    "        next_token = tweets[3]['next_token']\n",
    "        print(\"next_token: \" + next_token)\n",
    "    except KeyError:\n",
    "        #next_tokenが取得できない（最後のリクエスト）の場合はループ終了\n",
    "        print(\"最後のページに到達しました\")\n",
    "        break\n",
    "print(f\"取得したデータ数：{len(tw_data)}\")"
   ]
  },
  {
   "cell_type": "code",
   "execution_count": 29,
   "id": "9a76e2ac-8e51-4fc4-846e-20aebb80c5e1",
   "metadata": {},
   "outputs": [],
   "source": [
    "csvize(tw_data,username,labels,\"user_like\")"
   ]
  }
 ],
 "metadata": {
  "kernelspec": {
   "display_name": "Python 3 (ipykernel)",
   "language": "python",
   "name": "python3"
  },
  "language_info": {
   "codemirror_mode": {
    "name": "ipython",
    "version": 3
   },
   "file_extension": ".py",
   "mimetype": "text/x-python",
   "name": "python",
   "nbconvert_exporter": "python",
   "pygments_lexer": "ipython3",
   "version": "3.9.13"
  }
 },
 "nbformat": 4,
 "nbformat_minor": 5
}
