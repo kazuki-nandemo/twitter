{
 "cells": [
  {
   "cell_type": "code",
   "execution_count": 31,
   "id": "dd633b70-5648-4942-83f3-024cf1cc4e09",
   "metadata": {},
   "outputs": [],
   "source": [
    "# !pip install tweepy"
   ]
  },
  {
   "cell_type": "code",
   "execution_count": 43,
   "id": "1c848ba0-2c3f-492a-9581-1deaff5af89e",
   "metadata": {},
   "outputs": [],
   "source": [
    "import json\n",
    "import tweepy\n",
    "from datetime import datetime,timezone\n",
    "import pytz\n",
    "import pandas as pd\n",
    "import datetime"
   ]
  },
  {
   "cell_type": "code",
   "execution_count": 44,
   "id": "f35e581c-a22e-4d7d-98ef-11c87251588e",
   "metadata": {},
   "outputs": [],
   "source": [
    "username = \"git_media\""
   ]
  },
  {
   "cell_type": "code",
   "execution_count": 45,
   "id": "e30b76fa-c601-4c80-91e3-1d9733321bc0",
   "metadata": {},
   "outputs": [],
   "source": [
    "f = open('secret.json','r')\n",
    "key = json.load(f)\n",
    "Consumer_key = key['Consumer_key']\n",
    "Consumer_secret = key['Consumer_secret']\n",
    "Access_token = key['Access_token']\n",
    "Access_secret = key['Access_secret']\n",
    "bearer_token = key['bearer_token']"
   ]
  },
  {
   "cell_type": "code",
   "execution_count": 46,
   "id": "cac87664-9dd5-47ea-b492-46c7d91ea080",
   "metadata": {},
   "outputs": [],
   "source": [
    "def get_userid(username):\n",
    "    username = username\n",
    "    user_result = client.get_user(username=username)\n",
    "    id = user_result.data.id\n",
    "    return id\n",
    "def change_time_JST(u_time):\n",
    "    tm = u_time.astimezone(pytz.timezone('Asia/Tokyo'))\n",
    "    zn = tm.strftime('%Y/%m/%d %H:%M:%S')\n",
    "    return zn\n",
    "def csvize(tw_data,labels,name):\n",
    "    name = name\n",
    "    #tw_dataのリストをpandasのDataFrameに変換\n",
    "    df = pd.DataFrame(tw_data,columns=labels)\n",
    "    #CSVファイルの名前を決める\n",
    "    file_name=name + '_'+username+'_'+time_now+'.csv'\n",
    "    #CSVファイルを出力する\n",
    "    df.to_csv('file/'+file_name,encoding='utf-8-sig',index=False)\n",
    "    \n",
    "dt_now = datetime.datetime.now()\n",
    "time_now = dt_now.strftime('%Y%m%d%H%M%S')"
   ]
  },
  {
   "cell_type": "code",
   "execution_count": 47,
   "id": "039c0c0c-935e-4b26-ab3e-f96bbae558af",
   "metadata": {},
   "outputs": [],
   "source": [
    "# OAuth認証\n",
    "auth = tweepy.OAuthHandler(Consumer_key, Consumer_secret)\n",
    "auth.set_access_token(Access_token, Access_secret)\n",
    "api = tweepy.API(auth)\n",
    "\n",
    "client = tweepy.Client(\n",
    "    consumer_key=Consumer_key,\n",
    "    consumer_secret=Consumer_secret,\n",
    "    access_token=Access_token,\n",
    "    access_token_secret=Access_secret,\n",
    "    bearer_token=bearer_token\n",
    ")"
   ]
  },
  {
   "cell_type": "code",
   "execution_count": 48,
   "id": "4bf143d6-45c2-4a06-9830-f2b8cb46ef13",
   "metadata": {},
   "outputs": [],
   "source": [
    "user_id = get_userid(username)\n",
    "labels=['アカウントID','アカウント名']"
   ]
  },
  {
   "cell_type": "code",
   "execution_count": 66,
   "id": "80870498-23e8-4018-9bec-02b307f821f4",
   "metadata": {},
   "outputs": [
    {
     "name": "stdout",
     "output_type": "stream",
     "text": [
      "first_flg: True\n",
      "next_token: MQQ8C55M338HEZZZ\n",
      "first_flg: False\n",
      "next_token: TR9F0DI2EV81EZZZ\n",
      "first_flg: False\n",
      "next_token: 063A46539F61EZZZ\n",
      "first_flg: False\n",
      "next_token: UVFAQDJO8B1HEZZZ\n",
      "first_flg: False\n",
      "next_token: VTEGQNKT5QVHEZZZ\n",
      "first_flg: False\n",
      "next_token: O9HAILUJS6UHEZZZ\n",
      "first_flg: False\n",
      "最後のページに到達しました\n"
     ]
    }
   ],
   "source": [
    "tw_data = []\n",
    "next_token = \"\"\n",
    "first_flg = True\n",
    "while True:\n",
    "    print(\"first_flg: \" + str(first_flg))\n",
    "    if first_flg == True:\n",
    "        #1回目リクエスト    \n",
    "        follows = client.get_users_following(user_id)\n",
    "        first_flg = False\n",
    "    else:\n",
    "        #2回目リクエスト    \n",
    "        follows = client.get_users_following(user_id,pagination_token=next_token)\n",
    "    for user in follows.data:\n",
    "        tw_data.append([\n",
    "        user.username, user.name]) \n",
    "    try:\n",
    "        next_token = follows[3]['next_token']\n",
    "        print(\"next_token: \" + next_token)\n",
    "    except KeyError:\n",
    "        #next_tokenが取得できない（最後のリクエスト）の場合はループ終了\n",
    "        print(\"最後のページに到達しました\")\n",
    "        break"
   ]
  },
  {
   "cell_type": "code",
   "execution_count": 67,
   "id": "9a76e2ac-8e51-4fc4-846e-20aebb80c5e1",
   "metadata": {},
   "outputs": [],
   "source": [
    "csvize(tw_data,labels,\"follows\")"
   ]
  },
  {
   "cell_type": "code",
   "execution_count": 68,
   "id": "3ab9722a-0815-451b-a42f-3d97cc58ff3a",
   "metadata": {},
   "outputs": [
    {
     "name": "stdout",
     "output_type": "stream",
     "text": [
      "first_flg: True\n",
      "100\n",
      "next_token: AKFU49VINR81EZZZ\n",
      "first_flg: False\n",
      "200\n",
      "next_token: 191CJCIPHN31EZZZ\n",
      "first_flg: False\n",
      "300\n",
      "next_token: NCQHDDUOM701EZZZ\n",
      "first_flg: False\n",
      "400\n",
      "next_token: 7S2NKQV362V1EZZZ\n",
      "first_flg: False\n",
      "425\n",
      "最後のページに到達しました\n"
     ]
    }
   ],
   "source": [
    "tw_data = []\n",
    "next_token = \"\"\n",
    "first_flg = True\n",
    "while True:\n",
    "    print(\"first_flg: \" + str(first_flg))\n",
    "    if first_flg == True:\n",
    "        #1回目リクエスト\n",
    "        followers = client.get_users_followers(id=user_id, max_results=\"100\")\n",
    "        #初回フラグを落とす\n",
    "        first_flg = False\n",
    "    else:\n",
    "        #2回目移行リクエスト\n",
    "        followers = client.get_users_followers(id=user_id, max_results=\"100\", pagination_token=next_token)\n",
    "    for user in followers.data:\n",
    "        tw_data.append([\n",
    "        user.username, user.name])\n",
    "    print(len(tw_data))\n",
    "        \n",
    "    try:\n",
    "        next_token = followers.meta['next_token']\n",
    "        print(\"next_token: \" + next_token)\n",
    "    except KeyError:\n",
    "        #next_tokenが取得できない（最後のリクエスト）の場合はループ終了\n",
    "        print(\"最後のページに到達しました\")\n",
    "        break"
   ]
  },
  {
   "cell_type": "code",
   "execution_count": 69,
   "id": "f03e8ec9-7025-4ea6-8254-4d3977bfb945",
   "metadata": {},
   "outputs": [],
   "source": [
    "csvize(tw_data,labels,\"follower\")"
   ]
  },
  {
   "cell_type": "code",
   "execution_count": null,
   "id": "17f3e905-58ed-4ccd-ac5c-70d7a9587e1f",
   "metadata": {},
   "outputs": [],
   "source": [
    "# フォローユーザー分だけループ\n",
    "for f in follows:\n",
    " \n",
    "    # フォローユーザーがフォロワー一覧に含まれていないなら\n",
    "    if f not in followers:\n",
    "        print(\"ID:{}、ユーザー名:{}をアンフォローしますか？\".format(api.get_user(f).screen_name, api.get_user(f).name))\n",
    "        if input(\"Y/N?\") in ['y','Y']:    \n",
    "            api.destroy_friendship(f)\n",
    "            print(\"ID:{}、ユーザー名:{}をフォローを解除しました。\".format(api.get_user(f).screen_name, api.get_user(f).name))"
   ]
  }
 ],
 "metadata": {
  "kernelspec": {
   "display_name": "Python 3 (ipykernel)",
   "language": "python",
   "name": "python3"
  },
  "language_info": {
   "codemirror_mode": {
    "name": "ipython",
    "version": 3
   },
   "file_extension": ".py",
   "mimetype": "text/x-python",
   "name": "python",
   "nbconvert_exporter": "python",
   "pygments_lexer": "ipython3",
   "version": "3.9.13"
  }
 },
 "nbformat": 4,
 "nbformat_minor": 5
}
